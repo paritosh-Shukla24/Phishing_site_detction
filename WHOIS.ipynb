{
  "nbformat": 4,
  "nbformat_minor": 0,
  "metadata": {
    "colab": {
      "provenance": []
    },
    "kernelspec": {
      "name": "python3",
      "display_name": "Python 3"
    },
    "language_info": {
      "name": "python"
    }
  },
  "cells": [
    {
      "cell_type": "code",
      "execution_count": 48,
      "metadata": {
        "colab": {
          "base_uri": "https://localhost:8080/"
        },
        "id": "3emdxuZanfHX",
        "outputId": "5a140cba-fc7a-4d4d-9d41-cd3c370577f5"
      },
      "outputs": [
        {
          "output_type": "stream",
          "name": "stdout",
          "text": [
            "Requirement already satisfied: whois in /usr/local/lib/python3.10/dist-packages (0.9.27)\n"
          ]
        }
      ],
      "source": [
        "!pip install whois"
      ]
    },
    {
      "cell_type": "code",
      "source": [
        "import whois\n"
      ],
      "metadata": {
        "id": "EtXTZURSq2E9"
      },
      "execution_count": 3,
      "outputs": []
    },
    {
      "cell_type": "code",
      "source": [
        "import requests\n",
        "from bs4 import BeautifulSoup\n",
        "\n",
        "def get_whois_data(domain_name):\n",
        "    try:\n",
        "        url = f\"https://www.whois.com/whois/{domain_name}\"\n",
        "\n",
        "        response = requests.get(url)\n",
        "\n",
        "        if response.status_code == 200:\n",
        "            soup = BeautifulSoup(response.text, 'html.parser')\n",
        "            informations=soup.find_all('div',class_='df-value')\n",
        "            return informations\n",
        "    except Exception as e:\n",
        "        print(f\"An error occurred: {str(e)}\")\n",
        "\n"
      ],
      "metadata": {
        "id": "UQdFvYhotOBd"
      },
      "execution_count": 45,
      "outputs": []
    },
    {
      "cell_type": "code",
      "source": [
        "a=get_whois_data('amazon.com')"
      ],
      "metadata": {
        "id": "DcokYX_Oyfop"
      },
      "execution_count": 46,
      "outputs": []
    },
    {
      "cell_type": "code",
      "source": [
        "for i in range(0,5):\n",
        "  print(a[i].text.strip())"
      ],
      "metadata": {
        "colab": {
          "base_uri": "https://localhost:8080/"
        },
        "id": "XLMNGK2SzgHK",
        "outputId": "7b16efb3-7727-459f-db41-17827d4cc34e"
      },
      "execution_count": 47,
      "outputs": [
        {
          "output_type": "stream",
          "name": "stdout",
          "text": [
            "amazon.com\n",
            "MarkMonitor Inc.\n",
            "1994-11-01\n",
            "2024-10-30\n",
            "2023-05-16\n"
          ]
        }
      ]
    },
    {
      "cell_type": "code",
      "source": [],
      "metadata": {
        "id": "evXNrteIzBot"
      },
      "execution_count": null,
      "outputs": []
    }
  ]
}